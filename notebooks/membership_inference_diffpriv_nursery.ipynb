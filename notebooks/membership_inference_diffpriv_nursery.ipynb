{
 "cells": [
  {
   "cell_type": "markdown",
   "metadata": {},
   "source": [
    "# Running membership inference attacks on the Nursery data and defending using differential privacy"
   ]
  },
  {
   "cell_type": "markdown",
   "metadata": {},
   "source": [
    "In this tutorial we will show how to run black-box membership attacks on both a vanilla model and models trained with differential privacy. The attacks are taken from the ART library's inference module (https://github.com/Trusted-AI/adversarial-robustness-toolbox) and the differentially private model implementation is taken fron the Differential Privacy Library (https://github.com/IBM/differential-privacy-library).\n",
    "\n",
    "This will be demonstrated on the Nursery dataset (original dataset can be found here: https://archive.ics.uci.edu/ml/datasets/nursery). "
   ]
  },
  {
   "cell_type": "markdown",
   "metadata": {},
   "source": [
    "We have already preprocessed the dataset such that all categorical features are one-hot encoded, and the data was scaled using sklearn's StandardScaler."
   ]
  },
  {
   "cell_type": "markdown",
   "metadata": {},
   "source": [
    "## Load data"
   ]
  },
  {
   "cell_type": "code",
   "execution_count": 1,
   "metadata": {},
   "outputs": [],
   "source": [
    "import os\n",
    "import sys\n",
    "sys.path.insert(0, os.path.abspath('..'))\n",
    "\n",
    "from art.utils import load_nursery\n",
    "\n",
    "train_size = 200\n",
    "(x_train, y_train), (x_test, y_test), _, _ = load_nursery(test_set=0.5)\n",
    "x_train = x_train[:train_size]\n",
    "y_train = y_train[:train_size]\n",
    "x_test = x_test[:train_size]\n",
    "y_test = y_test[:train_size]"
   ]
  },
  {
   "cell_type": "markdown",
   "metadata": {},
   "source": [
    "## Train logistic regression model"
   ]
  },
  {
   "cell_type": "code",
   "execution_count": 2,
   "metadata": {},
   "outputs": [
    {
     "name": "stdout",
     "output_type": "stream",
     "text": [
      "Base model accuracy:  0.91\n"
     ]
    }
   ],
   "source": [
    "from sklearn.linear_model import LogisticRegression\n",
    "from art.estimators.classification.scikitlearn import ScikitlearnLogisticRegression\n",
    "\n",
    "model = LogisticRegression(solver=\"lbfgs\", max_iter=1000)\n",
    "model.fit(x_train, y_train)\n",
    "\n",
    "art_classifier = ScikitlearnLogisticRegression(model)\n",
    "base_model_accuracy = model.score(x_test, y_test)\n",
    "\n",
    "print('Base model accuracy: ', base_model_accuracy)"
   ]
  },
  {
   "cell_type": "markdown",
   "metadata": {},
   "source": [
    "## Attack\n",
    "### Black-box attack\n",
    "The black-box attack basically trains an additional classifier (called the attack model) to predict the membership status of a sample. It can use as input to the learning process probabilities/logits or losses, depending on the type of model and provided configuration.\n",
    "#### Train attack model"
   ]
  },
  {
   "cell_type": "code",
   "execution_count": 5,
   "metadata": {},
   "outputs": [],
   "source": [
    "import numpy as np\n",
    "from art.attacks.inference.membership_inference import MembershipInferenceBlackBox\n",
    "\n",
    "attack_train_ratio = 0.5\n",
    "attack_train_size = int(len(x_train) * attack_train_ratio)\n",
    "attack_test_size = int(len(x_test) * attack_train_ratio)\n",
    "\n",
    "attack = MembershipInferenceBlackBox(art_classifier, attack_model_type='rf') \n",
    "\n",
    "#train attack model\n",
    "attack.fit(x_train[:attack_train_size], y_train[:attack_train_size],\n",
    "           x_test[:attack_test_size], y_test[:attack_test_size])"
   ]
  },
  {
   "cell_type": "markdown",
   "metadata": {},
   "source": [
    "#### Infer membership and check accuracy"
   ]
  },
  {
   "cell_type": "code",
   "execution_count": 7,
   "metadata": {},
   "outputs": [
    {
     "name": "stdout",
     "output_type": "stream",
     "text": [
      "attack accuracy on training data:  0.5\n",
      "attack accuracy on test data:  0.5700000000000001\n",
      "overall attack accuracy:  0.535\n"
     ]
    }
   ],
   "source": [
    "# infer attacked feature\n",
    "inferred_train = attack.infer(x_train[attack_train_size:], y_train[attack_train_size:])\n",
    "inferred_test = attack.infer(x_test[attack_test_size:], y_test[attack_test_size:])\n",
    "\n",
    "# check accuracy\n",
    "train_acc = np.sum(inferred_train) / len(inferred_train)\n",
    "test_acc = 1 - (np.sum(inferred_test) / len(inferred_test))\n",
    "acc = (train_acc * len(inferred_train) + test_acc * len(inferred_test)) / (len(inferred_train) + len(inferred_test))\n",
    "print('attack accuracy on training data: ', train_acc)\n",
    "print('attack accuracy on test data: ', test_acc)\n",
    "print('overall attack accuracy: ', acc)"
   ]
  },
  {
   "cell_type": "markdown",
   "metadata": {},
   "source": [
    "This means that for 54% of the data, membership status is inferred correctly (a little better than a random coin flip)."
   ]
  },
  {
   "cell_type": "code",
   "execution_count": 8,
   "metadata": {},
   "outputs": [
    {
     "name": "stdout",
     "output_type": "stream",
     "text": [
      "precision and recall:  (0.5376344086021505, 0.5)\n"
     ]
    }
   ],
   "source": [
    "def calc_precision_recall(predicted, actual, positive_value=1):\n",
    "    score = 0  # both predicted and actual are positive\n",
    "    num_positive_predicted = 0  # predicted positive\n",
    "    num_positive_actual = 0  # actual positive\n",
    "    for i in range(len(predicted)):\n",
    "        if predicted[i] == positive_value:\n",
    "            num_positive_predicted += 1\n",
    "        if actual[i] == positive_value:\n",
    "            num_positive_actual += 1\n",
    "        if predicted[i] == actual[i]:\n",
    "            if predicted[i] == positive_value:\n",
    "                score += 1\n",
    "    \n",
    "    if num_positive_predicted == 0:\n",
    "        precision = 1\n",
    "    else:\n",
    "        precision = score / num_positive_predicted  # the fraction of predicted “Yes” responses that are correct\n",
    "    if num_positive_actual == 0:\n",
    "        recall = 1\n",
    "    else:\n",
    "        recall = score / num_positive_actual  # the fraction of “Yes” responses that are predicted correctly\n",
    "\n",
    "    return precision, recall\n",
    "\n",
    "# rule-based\n",
    "print('precision and recall: ', calc_precision_recall(np.concatenate((inferred_train, inferred_test)), \n",
    "                            np.concatenate((np.ones(len(inferred_train)), np.zeros(len(inferred_test)))) ))"
   ]
  },
  {
   "cell_type": "markdown",
   "metadata": {},
   "source": [
    "## Train differentially private model"
   ]
  },
  {
   "cell_type": "code",
   "execution_count": 11,
   "metadata": {},
   "outputs": [
    {
     "name": "stdout",
     "output_type": "stream",
     "text": [
      "DP model accuracy:  0.475\n"
     ]
    }
   ],
   "source": [
    "import diffprivlib.models as dp\n",
    "\n",
    "dp_model = dp.LogisticRegression(epsilon=5, data_norm=5)\n",
    "dp_model.fit(x_train, y_train)\n",
    "# print('norm: ', np.linalg.norm(x_train) )\n",
    "\n",
    "dp_art_model = ScikitlearnLogisticRegression(dp_model)\n",
    "print('DP model accuracy: ', dp_model.score(x_test, y_test))"
   ]
  },
  {
   "cell_type": "markdown",
   "metadata": {},
   "source": [
    "### Black-box attack"
   ]
  },
  {
   "cell_type": "code",
   "execution_count": 12,
   "metadata": {},
   "outputs": [
    {
     "name": "stdout",
     "output_type": "stream",
     "text": [
      "attack accuracy on training data:  0.47\n",
      "attack accuracy on test data:  0.52\n",
      "overall attack accuracy:  0.495\n",
      "precision and recall:  (0.49473684210526314, 0.47)\n"
     ]
    }
   ],
   "source": [
    "dp_attack = MembershipInferenceBlackBox(dp_art_model, attack_model_type='rf')\n",
    "\n",
    "# train attack model\n",
    "dp_attack.fit(x_train[:attack_train_size].astype(np.float32), y_train[:attack_train_size],\n",
    "              x_test[:attack_test_size].astype(np.float32), y_test[:attack_test_size])\n",
    "\n",
    "# infer \n",
    "dp_inferred_train = dp_attack.infer(x_train.astype(np.float32)[attack_train_size:], y_train[attack_train_size:])\n",
    "dp_inferred_test = dp_attack.infer(x_test.astype(np.float32)[attack_test_size:], y_test[attack_test_size:])\n",
    "\n",
    "# check accuracy\n",
    "dp_train_acc = np.sum(dp_inferred_train) / len(dp_inferred_train)\n",
    "dp_test_acc = 1 - (np.sum(dp_inferred_test) / len(dp_inferred_test))\n",
    "dp_acc = (dp_train_acc * len(dp_inferred_train) + dp_test_acc * len(dp_inferred_test)) / (len(dp_inferred_train) + len(dp_inferred_test))\n",
    "print('attack accuracy on training data: ', dp_train_acc)\n",
    "print('attack accuracy on test data: ', dp_test_acc)\n",
    "print('overall attack accuracy: ', dp_acc)\n",
    "\n",
    "print('precision and recall: ', calc_precision_recall(np.concatenate((dp_inferred_train, dp_inferred_test)), \n",
    "                            np.concatenate((np.ones(len(dp_inferred_train)), np.zeros(len(dp_inferred_test))))))"
   ]
  },
  {
   "cell_type": "markdown",
   "metadata": {},
   "source": [
    "The differentially private model reduces the attack accuracy, but also completely ruins the model's accuracy.\n",
    "Let's see if we can find a sweet spot where both acceptable accuracy and privacy can be acheived."
   ]
  },
  {
   "cell_type": "code",
   "execution_count": 13,
   "metadata": {},
   "outputs": [
    {
     "name": "stdout",
     "output_type": "stream",
     "text": [
      "0.01\n",
      "0.1\n",
      "0.5\n",
      "1.0\n",
      "5.0\n",
      "10.0\n",
      "25.0\n",
      "75.0\n",
      "100.0\n",
      "200.0\n"
     ]
    }
   ],
   "source": [
    "accuracy = []\n",
    "attack_accuracy = []\n",
    "epsilons = [0.01, 0.1, 0.5, 1.0, 5.0, 10.0, 25.0, 75.0, 100.0, 200.0]\n",
    "\n",
    "for eps in epsilons:\n",
    "    print(eps)\n",
    "    dp_clf = dp.LogisticRegression(epsilon=eps, data_norm=5)\n",
    "    dp_clf.fit(x_train, y_train)\n",
    "    accuracy.append(dp_clf.score(x_test, y_test))\n",
    "    dp_art_classifier = ScikitlearnLogisticRegression(dp_clf)\n",
    "    dp_attack = MembershipInferenceBlackBox(dp_art_classifier, attack_model_type='rf')\n",
    "    dp_attack.fit(x_train[:attack_train_size].astype(np.float32), y_train[:attack_train_size].astype(np.float32),\n",
    "                  x_test[:attack_test_size].astype(np.float32), y_test[:attack_test_size].astype(np.float32))\n",
    "    dp_inferred_train = dp_attack.infer(x_train.astype(np.float32)[attack_train_size:], y_train.astype(np.float32)[attack_train_size:])\n",
    "    dp_inferred_test = dp_attack.infer(x_test.astype(np.float32)[attack_train_size:], y_test.astype(np.float32)[attack_train_size:])\n",
    "    dp_train_acc = np.sum(dp_inferred_train) / len(dp_inferred_train)\n",
    "    dp_test_acc = 1 - (np.sum(dp_inferred_test) / len(dp_inferred_test))\n",
    "    dp_acc = (dp_train_acc * len(dp_inferred_train) + dp_test_acc * len(dp_inferred_test)) / (len(dp_inferred_train) + len(dp_inferred_test))\n",
    "    attack_accuracy.append(dp_acc)"
   ]
  },
  {
   "cell_type": "code",
   "execution_count": 14,
   "metadata": {},
   "outputs": [
    {
     "data": {
      "image/png": "[encoded data removed]",
      "text/plain": [
       "<Figure size 432x288 with 1 Axes>"
      ]
     },
     "metadata": {
      "needs_background": "light"
     },
     "output_type": "display_data"
    }
   ],
   "source": [
    "import matplotlib.pyplot as plt\n",
    "\n",
    "plt.plot(epsilons, accuracy)\n",
    "plt.plot(epsilons, np.ones_like(epsilons) * base_model_accuracy, dashes=[2,2], label=\"base model\")\n",
    "plt.title(\"Differentially private logistic regression\")\n",
    "plt.xlabel(\"epsilon\")\n",
    "plt.ylabel(\"Model accuracy\")\n",
    "plt.ylim(0, 1)\n",
    "plt.xlim(0.1, 200)\n",
    "plt.show()"
   ]
  },
  {
   "cell_type": "code",
   "execution_count": 15,
   "metadata": {},
   "outputs": [
    {
     "data": {
      "image/png": "[encoded data removed]",
      "text/plain": [
       "<Figure size 432x288 with 1 Axes>"
      ]
     },
     "metadata": {
      "needs_background": "light"
     },
     "output_type": "display_data"
    }
   ],
   "source": [
    "plt.plot(epsilons, attack_accuracy)\n",
    "plt.plot(epsilons, np.ones_like(epsilons) * acc, dashes=[2,2], label=\"base model\")\n",
    "plt.title(\"Differentially private logistic regression\")\n",
    "plt.xlabel(\"epsilon\")\n",
    "plt.ylabel(\"Attack accuracy\")\n",
    "plt.ylim(0, 1)\n",
    "plt.xlim(0.1, 200)\n",
    "plt.show()"
   ]
  },
  {
   "cell_type": "markdown",
   "metadata": {},
   "source": [
    "Looks like epsilon=25 is a good choice."
   ]
  },
  {
   "cell_type": "code",
   "execution_count": 16,
   "metadata": {},
   "outputs": [
    {
     "name": "stdout",
     "output_type": "stream",
     "text": [
      "DP model accuracy with eps=100:  0.72\n",
      "DP model attack accuracy with eps=100:  0.56\n"
     ]
    }
   ],
   "source": [
    "dp_model = dp.LogisticRegression(epsilon=25, data_norm=5)\n",
    "dp_model.fit(x_train, y_train)\n",
    "\n",
    "dp_art_classifier = ScikitlearnLogisticRegression(dp_model)\n",
    "print('DP model accuracy with eps=100: ', dp_model.score(x_test, y_test))\n",
    "\n",
    "dp_attack = MembershipInferenceBlackBox(dp_art_classifier, attack_model_type='rf')\n",
    "dp_attack.fit(x_train[:attack_train_size].astype(np.float32), y_train[:attack_train_size].astype(np.float32),\n",
    "              x_test[:attack_test_size].astype(np.float32), y_test[:attack_test_size].astype(np.float32))\n",
    "dp_inferred_train = dp_attack.infer(x_train.astype(np.float32)[attack_train_size:], y_train.astype(np.float32)[attack_train_size:])\n",
    "dp_inferred_test = dp_attack.infer(x_test.astype(np.float32)[attack_test_size:], y_test.astype(np.float32)[attack_test_size:])\n",
    "dp_train_acc = np.sum(dp_inferred_train) / len(dp_inferred_train)\n",
    "dp_test_acc = 1 - (np.sum(dp_inferred_test) / len(dp_inferred_test))\n",
    "dp_acc = (dp_train_acc * len(dp_inferred_train) + dp_test_acc * len(dp_inferred_test)) / (len(dp_inferred_train) + len(dp_inferred_test))\n",
    "    \n",
    "print('DP model attack accuracy with eps=100: ', dp_acc)"
   ]
  },
  {
   "cell_type": "code",
   "execution_count": null,
   "metadata": {},
   "outputs": [],
   "source": []
  }
 ],
 "metadata": {
  "kernelspec": {
   "display_name": "Python 3",
   "language": "python",
   "name": "python3"
  },
  "language_info": {
   "codemirror_mode": {
    "name": "ipython",
    "version": 3
   },
   "file_extension": ".py",
   "mimetype": "text/x-python",
   "name": "python",
   "nbconvert_exporter": "python",
   "pygments_lexer": "ipython3",
   "version": "3.7.5"
  }
 },
 "nbformat": 4,
 "nbformat_minor": 2
}
